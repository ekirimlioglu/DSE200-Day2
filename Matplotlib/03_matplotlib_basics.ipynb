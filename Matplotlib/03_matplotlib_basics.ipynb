{
 "cells": [
  {
   "cell_type": "markdown",
   "id": "9b91cbd7-7c68-43d7-a677-9765a01086c2",
   "metadata": {},
   "source": [
    "# matplotlib basics"
   ]
  },
  {
   "cell_type": "code",
   "execution_count": null,
   "id": "45f2f756b68dc18b",
   "metadata": {
    "ExecuteTime": {
     "end_time": "2024-10-11T07:38:44.279022Z",
     "start_time": "2024-10-11T07:38:43.062735Z"
    }
   },
   "outputs": [],
   "source": [
    "%pip install matplotlib"
   ]
  },
  {
   "cell_type": "code",
   "execution_count": null,
   "id": "4493ef74-9251-4d1d-b3de-f3ecf1f61838",
   "metadata": {
    "ExecuteTime": {
     "end_time": "2024-10-11T07:39:57.792715Z",
     "start_time": "2024-10-11T07:39:57.782905Z"
    },
    "tags": []
   },
   "outputs": [],
   "source": [
    "# importing matplotlib module \n",
    "import matplotlib.pyplot as plt\n",
    "import numpy as np\n"
   ]
  },
  {
   "cell_type": "code",
   "execution_count": null,
   "id": "99e1eb4f-e3b9-4795-a056-281d336091ae",
   "metadata": {
    "tags": []
   },
   "outputs": [],
   "source": [
    "# x values \n",
    "x = np.array([3, 6, 7, 9, 10])\n",
    " \n",
    "# y values \n",
    "y = np.array([3, 7, 8, 4, 2])\n",
    "y = x**2\n",
    " \n",
    "# plot \n",
    "plt.plot(x, y) \n",
    "plt.xlabel('X Data')\n",
    "plt.ylabel('Y Data')\n",
    "plt.title('Title')\n",
    "\n",
    "# show plot\n",
    "plt.show()"
   ]
  },
  {
   "cell_type": "code",
   "execution_count": null,
   "id": "d717c98d-0c28-48bc-b8ad-eded92f1729b",
   "metadata": {
    "tags": []
   },
   "outputs": [],
   "source": [
    "# x values \n",
    "x = np.array([3, 6, 7, 9, 11])\n",
    " \n",
    "# y values \n",
    "y = np.array([3, 7, 8, 4, 2])\n",
    " \n",
    "# plot\n",
    "plt.bar(x, y) #y is height for bar plots\n",
    "# bar, stem, scatter, stackplot, hist2d\n",
    "plt.xlabel('X Data')\n",
    "plt.ylabel('Y Data')\n",
    "plt.title('Title')\n",
    "\n",
    "# show plot\n",
    "plt.show()"
   ]
  },
  {
   "cell_type": "code",
   "execution_count": null,
   "id": "4489dc6d-1d67-4357-9d41-9277313aac24",
   "metadata": {
    "tags": []
   },
   "outputs": [],
   "source": [
    "dir(plt)"
   ]
  },
  {
   "cell_type": "markdown",
   "id": "503d2ba2-7de0-464d-8932-2fd481a08660",
   "metadata": {
    "tags": []
   },
   "source": [
    "# Get help : \n",
    "[matplotlib plot types link](https://matplotlib.org/stable/plot_types/index.html)\n",
    "\n",
    "[Pyplot details](https://matplotlib.org/3.5.3/api/_as_gen/matplotlib.pyplot.html)"
   ]
  },
  {
   "cell_type": "markdown",
   "id": "11fc5ef6-e5f2-48d4-92c4-df00de163865",
   "metadata": {},
   "source": [
    "### [Plot Styles](https://matplotlib.org/stable/gallery/style_sheets/style_sheets_reference.html)"
   ]
  },
  {
   "cell_type": "code",
   "execution_count": null,
   "id": "348ca365-63cd-4ea2-94d1-af46139bebb1",
   "metadata": {
    "tags": []
   },
   "outputs": [],
   "source": [
    "plt.style.available"
   ]
  },
  {
   "cell_type": "code",
   "execution_count": null,
   "id": "250061ac-7e83-4ca4-a34b-e87efc2c96b7",
   "metadata": {
    "tags": []
   },
   "outputs": [],
   "source": [
    "plt.style.use('seaborn-v0_8')"
   ]
  },
  {
   "cell_type": "markdown",
   "id": "016c1e0b-7b42-413e-8ea4-19354313bdf5",
   "metadata": {
    "tags": []
   },
   "source": [
    "# [quiver](https://matplotlib.org/stable/plot_types/arrays/quiver.html)"
   ]
  },
  {
   "cell_type": "code",
   "execution_count": null,
   "id": "07a98a6b-8eb7-4d43-81d1-64b94f17c3c8",
   "metadata": {
    "tags": []
   },
   "outputs": [],
   "source": [
    "import matplotlib.pyplot as plt\n",
    "import numpy as np\n",
    "\n",
    "# make data\n",
    "x = np.linspace(-4, 4, 6)\n",
    "y = np.linspace(-4, 4, 6)\n",
    "X, Y = np.meshgrid(x, y)\n",
    "U = X + Y\n",
    "V = Y - X\n",
    "\n",
    "# plot\n",
    "fig, ax = plt.subplots()\n",
    "\n",
    "ax.quiver(X, Y, U, V, color=\"C0\", angles='xy',\n",
    "          scale_units='xy', scale=2, width=.015)\n",
    "\n",
    "ax.set(xlim=(-5, 5), ylim=(-5, 5))\n",
    "\n",
    "plt.show()"
   ]
  },
  {
   "cell_type": "markdown",
   "id": "6ea388d4-b7be-44fe-9125-a2bcc72f7b51",
   "metadata": {
    "tags": []
   },
   "source": [
    "# [fill_between](https://matplotlib.org/stable/plot_types/basic/fill_between.html#sphx-glr-plot-types-basic-fill-between-py)"
   ]
  },
  {
   "cell_type": "code",
   "execution_count": null,
   "id": "fab7b304-73ae-4401-87d7-f71d68f549a7",
   "metadata": {
    "tags": []
   },
   "outputs": [],
   "source": [
    "import matplotlib.pyplot as plt\n",
    "import numpy as np\n",
    "\n",
    "plt.style.use('dark_background')\n",
    "\n",
    "# make data\n",
    "np.random.seed(1)\n",
    "x = np.linspace(0, 8, 16)\n",
    "y1 = 3 + 4*x/8 + np.random.uniform(0.0, 0.5, len(x))\n",
    "y2 = 1 + 2*x/8 + np.random.uniform(0.0, 0.5, len(x))\n",
    "\n",
    "# plot\n",
    "fig, ax = plt.subplots()\n",
    "\n",
    "ax.fill_between(x, y1, y2, alpha=.5, linewidth=0)\n",
    "ax.plot(x, (y1 + y2)/2, linewidth=2)\n",
    "\n",
    "ax.set(xlim=(0, 8), xticks=np.arange(1, 8),\n",
    "       ylim=(0, 8), yticks=np.arange(1, 8))\n",
    "\n",
    "plt.show()"
   ]
  },
  {
   "cell_type": "code",
   "execution_count": null,
   "id": "3efdbdef-2446-4cd4-9848-2be20476819e",
   "metadata": {
    "tags": []
   },
   "outputs": [],
   "source": [
    "plt.style.available"
   ]
  },
  {
   "cell_type": "markdown",
   "id": "6e8a380a-e346-47d7-99ed-d028cc0708d3",
   "metadata": {
    "tags": []
   },
   "source": [
    "# [tripcolor](https://matplotlib.org/stable/plot_types/unstructured/tripcolor.html#sphx-glr-plot-types-unstructured-tripcolor-py)"
   ]
  },
  {
   "cell_type": "code",
   "execution_count": null,
   "id": "29859345-58d4-4dd9-9d74-79daab7397bd",
   "metadata": {
    "tags": []
   },
   "outputs": [],
   "source": [
    "import matplotlib.pyplot as plt\n",
    "import numpy as np\n",
    "\n",
    "plt.style.use('_mpl-gallery-nogrid')\n",
    "\n",
    "# make data:\n",
    "np.random.seed(1)\n",
    "x = np.random.uniform(-3, 3, 256)\n",
    "y = np.random.uniform(-3, 3, 256)\n",
    "z = (1 - x/2 + x**5 + y**3) * np.exp(-x**2 - y**2)\n",
    "\n",
    "# plot:\n",
    "fig, ax = plt.subplots()\n",
    "\n",
    "ax.plot(x, y, 'o', markersize=2, color='grey')\n",
    "ax.tripcolor(x, y, z)\n",
    "\n",
    "ax.set(xlim=(-3, 3), ylim=(-3, 3))\n",
    "\n",
    "plt.show()"
   ]
  },
  {
   "cell_type": "markdown",
   "id": "02b1e496-8430-4146-ac16-e9ede5aacda6",
   "metadata": {},
   "source": [
    "# [Gallery](https://matplotlib.org/stable/gallery/index.html)"
   ]
  },
  {
   "cell_type": "code",
   "execution_count": null,
   "id": "73289b44-d680-4d0c-87fb-50721e2774ee",
   "metadata": {
    "tags": []
   },
   "outputs": [],
   "source": [
    "import matplotlib.pyplot as plt\n",
    "import numpy as np\n",
    "\n",
    "# Create some fake data.\n",
    "x1 = np.linspace(0.0, 5.0)\n",
    "y1 = np.cos(2 * np.pi * x1) * np.exp(-x1)\n",
    "x2 = np.linspace(0.0, 2.0)\n",
    "y2 = np.cos(2 * np.pi * x2)\n",
    "\n",
    "fig, (ax1, ax2) = plt.subplots(2, 1)\n",
    "fig.suptitle('A tale of 2 subplots')\n",
    "\n",
    "ax1.plot(x1, y1, 'o-')\n",
    "ax1.set_ylabel('Damped oscillation')\n",
    "\n",
    "ax2.plot(x2, y2, '.-')\n",
    "ax2.set_xlabel('time (s)')\n",
    "ax2.set_ylabel('Undamped')\n",
    "\n",
    "plt.savefig('example.png')\n",
    "plt.show()"
   ]
  },
  {
   "cell_type": "markdown",
   "id": "2c4d3068-d295-41ec-bf48-d59e85ea6176",
   "metadata": {},
   "source": [
    "Least Squared Error"
   ]
  },
  {
   "cell_type": "code",
   "execution_count": null,
   "id": "1f877afb-7974-41a0-839c-ef486885b8ae",
   "metadata": {
    "tags": []
   },
   "outputs": [],
   "source": [
    "x = np.array([0, 1, 2, 3])\n",
    "y = np.array([-1, 0.2, 0.9, 2.1])\n",
    "A = np.vstack([x, np.ones(len(x))]).T\n",
    "A\n",
    "m, c = np.linalg.lstsq(A, y, rcond=None)[0]\n",
    "m, c\n",
    "plt.plot(x, y, 'o', label='Original data', markersize=10)\n",
    "plt.plot(x, m*x + c, 'r', label='Fitted line')\n",
    "plt.legend()\n",
    "plt.show()"
   ]
  }
 ],
 "metadata": {
  "kernelspec": {
   "display_name": "Python 3 (ipykernel)",
   "language": "python",
   "name": "python3"
  },
  "language_info": {
   "codemirror_mode": {
    "name": "ipython",
    "version": 3
   },
   "file_extension": ".py",
   "mimetype": "text/x-python",
   "name": "python",
   "nbconvert_exporter": "python",
   "pygments_lexer": "ipython3",
   "version": "3.11.2"
  }
 },
 "nbformat": 4,
 "nbformat_minor": 5
}
