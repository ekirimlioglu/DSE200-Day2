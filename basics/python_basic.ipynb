{
 "cells": [
  {
   "cell_type": "markdown",
   "metadata": {
    "id": "Jzfh_c6K9R5d"
   },
   "source": [
    "## First, let's connect to google drive..."
   ]
  },
  {
   "cell_type": "code",
   "execution_count": null,
   "metadata": {},
   "outputs": [],
   "source": [
    "%pip install matplotlib pandas numpy "
   ]
  },
  {
   "cell_type": "code",
   "execution_count": null,
   "metadata": {
    "colab": {
     "base_uri": "https://localhost:8080/"
    },
    "collapsed": true,
    "id": "oJj_dR678ZV7",
    "outputId": "ae0f3e55-c3d6-43a4-d84f-d4b4f7934bfd"
   },
   "outputs": [],
   "source": [
    "import matplotlib.pyplot as plt\n",
    "import pandas as pd\n",
    "import numpy as np\n",
    "import csv\n",
    "from datetime import datetime\n",
    "from collections import defaultdict  #provide default values for null keys\n",
    "\n",
    "# if we can import the drive module, we are running on colab\n",
    "try:\n",
    "    from google.colab import drive\n",
    "    drive.mount('/content/drive')\n",
    "    thePath = '/content/drive/My Drive/Colab Notebooks/'\n",
    "except:\n",
    "    thePath = ''\n",
    "\n",
    "theCSV = pd.read_csv(thePath + 'temperatures.csv')\n",
    "print(theCSV)"
   ]
  },
  {
   "cell_type": "markdown",
   "metadata": {
    "id": "5tW1dlAd_SLA"
   },
   "source": [
    "## Step 2: Let's read a set of monthly data from the CSV"
   ]
  },
  {
   "cell_type": "code",
   "execution_count": null,
   "metadata": {
    "id": "Zto_JdZ__X-L"
   },
   "outputs": [],
   "source": [
    "monthly_data = defaultdict(list)\n",
    "\n",
    "# Step 1: Read CSV file and organize data by month\n",
    "with open(thePath + 'temperatures.csv') as file:\n",
    "  theReader = csv.DictReader(file)\n",
    "\n",
    "  #add code...\n"
   ]
  },
  {
   "cell_type": "markdown",
   "metadata": {
    "id": "WQgajmDs_fGY"
   },
   "source": [
    "## Step 3: Let's gather and order the monthly stats"
   ]
  },
  {
   "cell_type": "code",
   "execution_count": null,
   "metadata": {
    "id": "Vphc42yb_utX"
   },
   "outputs": [],
   "source": [
    "#capture avg, min, max data for each month...\n",
    "\n",
    "monthly_stats = []\n",
    "\n",
    "#add code...\n",
    "\n",
    "monthly_stats.sort() #sort it...\n",
    "\n",
    "#fetch some data for our plots\n",
    "\n",
    "months = None\n",
    "average_temps = None\n"
   ]
  },
  {
   "cell_type": "markdown",
   "metadata": {
    "id": "iLe7wrFy_1xY"
   },
   "source": [
    "## Step 4: Let's visualize some data..."
   ]
  },
  {
   "cell_type": "code",
   "execution_count": null,
   "metadata": {
    "colab": {
     "base_uri": "https://localhost:8080/",
     "height": 507
    },
    "id": "6lsYuWZh_-pN",
    "outputId": "0672f32e-1ec6-4b7b-deca-d0b67911db65"
   },
   "outputs": [],
   "source": [
    "%matplotlib inline\n",
    "# Now write the actual plot code\n",
    "\n",
    "plt.figure(figsize=(10, 5))\n",
    "\n",
    "#add code...\n",
    "\n",
    "plt.show()"
   ]
  },
  {
   "cell_type": "markdown",
   "metadata": {
    "id": "bqIMG5whAmHu"
   },
   "source": [
    "## Just for fun, lets save some data..."
   ]
  },
  {
   "cell_type": "code",
   "execution_count": null,
   "metadata": {
    "colab": {
     "base_uri": "https://localhost:8080/"
    },
    "id": "tO3Xt4bRAoq_",
    "outputId": "98101d45-e3c1-415c-f8bc-4714c523e6d3"
   },
   "outputs": [],
   "source": [
    "# Step 4: Save the results to a new CSV file\n",
    "output_path = 'monthly_temperature_stats_plain_python.csv'\n",
    "\n",
    "with open(output_path, mode='w', newline='') as file:\n",
    "    writer = csv.writer(file)\n",
    "    writer.writerow(['Month', 'Average Temperature', 'Min Temperature', 'Max Temperature'])\n",
    "    writer.writerows(monthly_stats)\n",
    "\n",
    "# Display the calculated monthly statistics to the user\n",
    "monthly_stats"
   ]
  }
 ],
 "metadata": {
  "colab": {
   "provenance": []
  },
  "kernelspec": {
   "display_name": "Python 3",
   "name": "python3"
  },
  "language_info": {
   "codemirror_mode": {
    "name": "ipython",
    "version": 3
   },
   "file_extension": ".py",
   "mimetype": "text/x-python",
   "name": "python",
   "nbconvert_exporter": "python",
   "pygments_lexer": "ipython3",
   "version": "3.11.2"
  }
 },
 "nbformat": 4,
 "nbformat_minor": 0
}
