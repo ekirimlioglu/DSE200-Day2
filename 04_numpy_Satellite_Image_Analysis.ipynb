{
 "cells": [
  {
   "cell_type": "markdown",
   "metadata": {},
   "source": [
    "# Satellite Image Data Analysis using numpy\n",
    "\n",
    "## Data Source: Satellite Image from WIFIRE Project\n",
    "\n",
    "WIFIRE is an integrated system for wildfire analysis, with specific regard to changing urban dynamics and climate. The system integrates networked observations such as heterogeneous satellite data and real-time remote sensor data, with computational techniques in signal processing, visualization, modeling, and data assimilation to provide a scalable method to monitor such phenomena as weather patterns that can help predict a wildfire's rate of spread. You can read more about WIFIRE at: https://wifire.ucsd.edu/\n",
    "\n",
    "In this example, we will analyze a sample satellite image dataset from WIFIRE using the numpy Library.\n"
   ]
  },
  {
   "cell_type": "markdown",
   "metadata": {},
   "source": [
    "### Loading the libraries we need: numpy, scipy, matplotlib"
   ]
  },
  {
   "cell_type": "code",
   "execution_count": null,
   "metadata": {
    "tags": []
   },
   "outputs": [],
   "source": [
    "%pip install numpy scipy imageio matplotlib scikit-image\n",
    "import numpy as np\n",
    "from scipy import misc\n",
    "import imageio\n",
    "import matplotlib.pyplot as plt\n",
    "\n",
    "#Good reference for matpotlib: https://medium.com/@1522933668924/using-matplotlib-in-jupyter-notebooks-comparing-methods-and-some-tips-python-c38e85b40ba1"
   ]
  },
  {
   "cell_type": "markdown",
   "metadata": {},
   "source": [
    "### Creating a numpy array from an image file:\n",
    "\n",
    "\n",
    "Lets choose a WIFIRE satellite image file as an ndarray and display its type.\n",
    "\n"
   ]
  },
  {
   "cell_type": "code",
   "execution_count": null,
   "metadata": {
    "tags": []
   },
   "outputs": [],
   "source": [
    "from skimage import data #a collection of algorithms for image processing and computer vision\n",
    "\n",
    "photo_data = imageio.v2.imread('sd-3layers.jpg')\n",
    "\n",
    "type(photo_data)\n"
   ]
  },
  {
   "cell_type": "markdown",
   "metadata": {},
   "source": [
    "Let's see what is in this image. "
   ]
  },
  {
   "cell_type": "code",
   "execution_count": null,
   "metadata": {
    "tags": []
   },
   "outputs": [],
   "source": [
    "plt.figure(figsize=(15,15))\n",
    "plt.imshow(photo_data)"
   ]
  },
  {
   "cell_type": "code",
   "execution_count": null,
   "metadata": {
    "tags": []
   },
   "outputs": [],
   "source": [
    "photo_data.shape\n",
    "\n",
    "#print(photo_data)"
   ]
  },
  {
   "cell_type": "markdown",
   "metadata": {},
   "source": [
    "The shape of the ndarray show that it is a three layered matrix. The first two numbers here are length and width, and the third number (i.e. 3) is for three layers: Red, Green and Blue.\n",
    "\n",
    "<p style=\"font-family: Arial; font-size:1.75em; font-style:bold\">\n",
    "RGB Color Mapping in the Photo:</p>\n",
    "<p style=\"font-family: Arial; font-size:1.25em;color:red; font-style:bold\">\n",
    "RED pixel indicates Altitude</p>\n",
    "<p style=\"font-family: Arial; font-size:1.25em;color:blue; font-style:bold\">\n",
    "BLUE pixel indicates Aspect\n",
    "</p>\n",
    "<p style=\"font-family: Arial; font-size:1.25em;color:green; font-style:bold\">\n",
    "GREEN pixel indicates Slope\n",
    "</p>\n",
    "\n",
    "The higher values denote higher altitude, aspect and slope.\n"
   ]
  },
  {
   "cell_type": "code",
   "execution_count": null,
   "metadata": {
    "tags": []
   },
   "outputs": [],
   "source": [
    "#3725 * 4797 * 3 \n",
    "photo_data.size"
   ]
  },
  {
   "cell_type": "code",
   "execution_count": null,
   "metadata": {
    "tags": []
   },
   "outputs": [],
   "source": [
    "photo_data.min(), photo_data.max()"
   ]
  },
  {
   "cell_type": "code",
   "execution_count": null,
   "metadata": {
    "tags": []
   },
   "outputs": [],
   "source": [
    "photo_data.mean()"
   ]
  },
  {
   "cell_type": "markdown",
   "metadata": {},
   "source": [
    "### Pixel on the 150th Row and 250th Column"
   ]
  },
  {
   "cell_type": "code",
   "execution_count": null,
   "metadata": {
    "tags": []
   },
   "outputs": [],
   "source": [
    "photo_data[150, 250]"
   ]
  },
  {
   "cell_type": "code",
   "execution_count": null,
   "metadata": {
    "tags": []
   },
   "outputs": [],
   "source": [
    "photo_data[150, 250, 1]"
   ]
  },
  {
   "cell_type": "markdown",
   "metadata": {},
   "source": [
    "### Set a Pixel to All Zeros\n",
    "\n",
    "We can set all three layer in a pixel as once by assigning zero globally to that (row,column) pairing. However, setting one pixel to zero is not noticeable."
   ]
  },
  {
   "cell_type": "code",
   "execution_count": null,
   "metadata": {
    "tags": []
   },
   "outputs": [],
   "source": [
    "photo_data = imageio.v2.imread('sd-3layers.jpg')\n",
    "photo_data[150, 250] = 0\n",
    "plt.figure(figsize=(10,10))\n",
    "plt.imshow(photo_data)"
   ]
  },
  {
   "cell_type": "markdown",
   "metadata": {},
   "source": [
    "### Changing colors in a Range\n",
    "We can also use a range to change the pixel values. As an example, let's set the green layer for rows 200 t0 800 to full intensity."
   ]
  },
  {
   "cell_type": "code",
   "execution_count": null,
   "metadata": {
    "tags": []
   },
   "outputs": [],
   "source": [
    "photo_data = imageio.v2.imread('sd-3layers.jpg')\n",
    "\n",
    "photo_data[200:800, : ,1] = 255\n",
    "plt.figure(figsize=(10,10))\n",
    "plt.imshow(photo_data)"
   ]
  },
  {
   "cell_type": "code",
   "execution_count": null,
   "metadata": {
    "tags": []
   },
   "outputs": [],
   "source": [
    "photo_data = imageio.v2.imread('sd-3layers.jpg')\n",
    "\n",
    "photo_data[200:800, :] = 255\n",
    "plt.figure(figsize=(10,10))\n",
    "plt.imshow(photo_data)"
   ]
  },
  {
   "cell_type": "code",
   "execution_count": null,
   "metadata": {
    "tags": []
   },
   "outputs": [],
   "source": [
    "photo_data = imageio.v2.imread('sd-3layers.jpg')\n",
    "\n",
    "photo_data[200:800, :] = 0\n",
    "plt.figure(figsize=(10,10))\n",
    "plt.imshow(photo_data)"
   ]
  },
  {
   "cell_type": "markdown",
   "metadata": {},
   "source": [
    "### Pick all Pixels with Low Values"
   ]
  },
  {
   "cell_type": "code",
   "execution_count": null,
   "metadata": {
    "tags": []
   },
   "outputs": [],
   "source": [
    "photo_data = imageio.v2.imread('sd-3layers.jpg')\n",
    "print(\"Shape of photo_data:\", photo_data.shape)\n",
    "low_value_filter = photo_data < 50\n",
    "print(\"Shape of low_value_filter:\", low_value_filter.shape)"
   ]
  },
  {
   "cell_type": "markdown",
   "metadata": {},
   "source": [
    "### Filtering Out Low Values\n",
    "Whenever the low_value_filter is True, set value to 0."
   ]
  },
  {
   "cell_type": "code",
   "execution_count": null,
   "metadata": {
    "tags": []
   },
   "outputs": [],
   "source": [
    "#import random\n",
    "plt.figure(figsize=(10,10))\n",
    "plt.imshow(photo_data)\n",
    "photo_data[low_value_filter] = 0\n",
    "plt.figure(figsize=(10,10))\n",
    "plt.imshow(photo_data)"
   ]
  },
  {
   "cell_type": "markdown",
   "metadata": {},
   "source": [
    "### More Row and Column Operations\n",
    "You can design complex patters by making cols a function of rows or vice-versa. Here we try a linear relationship between rows and columns."
   ]
  },
  {
   "cell_type": "code",
   "execution_count": null,
   "metadata": {
    "tags": []
   },
   "outputs": [],
   "source": [
    "print(len(photo_data))\n",
    "rows_range = np.arange(len(photo_data))\n",
    "cols_range = rows_range\n",
    "print(type(rows_range))"
   ]
  },
  {
   "cell_type": "code",
   "execution_count": null,
   "metadata": {
    "tags": []
   },
   "outputs": [],
   "source": [
    "photo_data[rows_range, cols_range] = 255"
   ]
  },
  {
   "cell_type": "code",
   "execution_count": null,
   "metadata": {
    "tags": []
   },
   "outputs": [],
   "source": [
    "plt.figure(figsize=(15,15))\n",
    "plt.imshow(photo_data)"
   ]
  },
  {
   "cell_type": "markdown",
   "metadata": {},
   "source": [
    "### Masking Images\n",
    "Now let us try something even cooler...a mask that is in shape of a circular disc."
   ]
  },
  {
   "cell_type": "code",
   "execution_count": null,
   "metadata": {
    "tags": []
   },
   "outputs": [],
   "source": [
    "total_rows, total_cols, total_layers = photo_data.shape\n",
    "#print(\"photo_data = \", photo_data.shape)\n",
    "\n",
    "X, Y = np.ogrid[:total_rows, :total_cols]\n",
    "print(\"X = \", X.shape, \" and Y = \", Y.shape)"
   ]
  },
  {
   "cell_type": "code",
   "execution_count": null,
   "metadata": {
    "tags": []
   },
   "outputs": [],
   "source": [
    "center_row, center_col = total_rows / 2, total_cols / 2\n",
    "#print(\"center_row = \", center_row, \"AND center_col = \", center_col)\n",
    "#print(X - center_row)\n",
    "#print(Y - center_col)\n",
    "dist_from_center = ((X - center_row)**2 + (Y - center_col)**2)**(0.5)\n",
    "#print(dist_from_center)\n",
    "radius = ((total_rows / 2)**2)**(0.5)\n",
    "#print(\"Radius = \", radius)\n",
    "circular_mask = (dist_from_center > radius)\n",
    "#print(circular_mask)\n",
    "print(circular_mask[1500:1700,2000:2200])"
   ]
  },
  {
   "cell_type": "code",
   "execution_count": null,
   "metadata": {
    "tags": []
   },
   "outputs": [],
   "source": [
    "photo_data = imageio.v2.imread('sd-3layers.jpg')\n",
    "photo_data[circular_mask] = 0\n",
    "plt.figure(figsize=(15,15))\n",
    "plt.imshow(photo_data)"
   ]
  },
  {
   "cell_type": "markdown",
   "metadata": {},
   "source": [
    "### Further Masking\n",
    "You can further improve the mask, for example just get upper half disc."
   ]
  },
  {
   "cell_type": "code",
   "execution_count": null,
   "metadata": {},
   "outputs": [],
   "source": [
    "X, Y = np.ogrid[:total_rows, :total_cols]\n",
    "half_upper = X < center_row # this line generates a mask for all rows above the center\n",
    "\n",
    "half_upper_mask = np.logical_and(half_upper, circular_mask)"
   ]
  },
  {
   "cell_type": "code",
   "execution_count": null,
   "metadata": {},
   "outputs": [],
   "source": [
    "photo_data = imageio.imread('sd-3layers.jpg')\n",
    "photo_data[half_upper_mask] = 255\n",
    "#import random \n",
    "#photo_data[half_upper_mask] = random.randint(200,255)\n",
    "plt.figure(figsize=(15,15))\n",
    "plt.imshow(photo_data)"
   ]
  },
  {
   "cell_type": "markdown",
   "metadata": {},
   "source": [
    "### Hands-on Exercise 1: Masking\n",
    "Create a mask that sets the green layer in the right half of the image to highest intensity."
   ]
  },
  {
   "cell_type": "code",
   "execution_count": null,
   "metadata": {
    "tags": []
   },
   "outputs": [],
   "source": [
    "photo_data = imageio.v2.imread('sd-3layers.jpg')\n",
    "\n",
    "# TODO\n",
    "\n",
    "plt.figure(figsize=(15,15))\n",
    "plt.imshow(photo_data)"
   ]
  },
  {
   "cell_type": "markdown",
   "metadata": {},
   "source": [
    "## Further Processing of our Satellite Imagery\n",
    "\n",
    "### Processing RED Pixels\n",
    "\n",
    "Remember that red pixels tell us about the height. Let us try to highlight all the high altitude areas. We will do this by detecting high intensity RED Pixels and muting down other areas."
   ]
  },
  {
   "cell_type": "code",
   "execution_count": null,
   "metadata": {
    "tags": []
   },
   "outputs": [],
   "source": [
    "photo_data = imageio.v2.imread('sd-3layers.jpg')\n",
    "red_mask   = photo_data[:, : ,0] < 150\n",
    "\n",
    "photo_data[red_mask] = 0\n",
    "plt.figure(figsize=(15,15))\n",
    "plt.imshow(photo_data)"
   ]
  },
  {
   "cell_type": "markdown",
   "metadata": {},
   "source": [
    "### Detecting Highly-GREEN Pixels"
   ]
  },
  {
   "cell_type": "code",
   "execution_count": null,
   "metadata": {
    "tags": []
   },
   "outputs": [],
   "source": [
    "photo_data = imageio.v2.imread('sd-3layers.jpg')\n",
    "green_mask = photo_data[:, : ,1] < 150\n",
    "\n",
    "photo_data[green_mask] = 0\n",
    "plt.figure(figsize=(15,15))\n",
    "plt.imshow(photo_data)"
   ]
  },
  {
   "cell_type": "markdown",
   "metadata": {},
   "source": [
    "### Detecting Highly-BLUE Pixels\n"
   ]
  },
  {
   "cell_type": "code",
   "execution_count": null,
   "metadata": {
    "tags": []
   },
   "outputs": [],
   "source": [
    "photo_data = imageio.v2.imread('sd-3layers.jpg')\n",
    "blue_mask  = photo_data[:, : ,2] < 150\n",
    "\n",
    "photo_data[blue_mask] = 0\n",
    "plt.figure(figsize=(15,15))\n",
    "plt.imshow(photo_data)"
   ]
  },
  {
   "cell_type": "markdown",
   "metadata": {},
   "source": [
    "### Hands-on Exercise 2: Masking\n",
    "\n",
    "Composite mask that takes thresholds on all three RGB layers</p>"
   ]
  },
  {
   "cell_type": "code",
   "execution_count": null,
   "metadata": {
    "tags": []
   },
   "outputs": [],
   "source": [
    "photo_data = imageio.v2.imread('sd-3layers.jpg')\n",
    "\n",
    "# TODO\n",
    "\n",
    "plt.figure(figsize=(15,15))\n",
    "plt.imshow(photo_data)"
   ]
  },
  {
   "cell_type": "markdown",
   "metadata": {},
   "source": [
    "# Solutions to Hands-on exercises:"
   ]
  },
  {
   "cell_type": "code",
   "execution_count": null,
   "metadata": {},
   "outputs": [],
   "source": [
    "%matplotlib inline\n",
    "import numpy as np\n",
    "from scipy import misc\n",
    "import imageio\n",
    "import matplotlib.pyplot as plt"
   ]
  },
  {
   "cell_type": "markdown",
   "metadata": {},
   "source": [
    "### Hands-on Exercise 1: Masking\n",
    "Create a mask that sets the green layer in the right half of the image to highest intensity."
   ]
  },
  {
   "cell_type": "code",
   "execution_count": null,
   "metadata": {
    "tags": []
   },
   "outputs": [],
   "source": [
    "photo_data = imageio.v2.imread('sd-3layers.jpg')\n",
    "\n",
    "width = photo_data.shape[1]\n",
    "\n",
    "photo_data[:, width//2:width, 1] = 255\n",
    "\n",
    "\n",
    "plt.figure(figsize=(15,15))\n",
    "plt.imshow(photo_data)"
   ]
  },
  {
   "cell_type": "markdown",
   "metadata": {},
   "source": [
    "### Hands-on Exercise 2: Masking\n",
    "Composite mask that takes thresholds on all three RGB layers"
   ]
  },
  {
   "cell_type": "code",
   "execution_count": null,
   "metadata": {
    "tags": []
   },
   "outputs": [],
   "source": [
    "photo_data = imageio.v2.imread('sd-3layers.jpg')\n",
    "\n",
    "red_mask   = photo_data[:, : ,0] < 150\n",
    "green_mask = photo_data[:, : ,1] > 100\n",
    "blue_mask  = photo_data[:, : ,2] < 100\n",
    "\n",
    "final_mask = np.logical_and(red_mask, green_mask, blue_mask)\n",
    "photo_data[final_mask] = 0\n",
    "\n",
    "plt.figure(figsize=(15,15))\n",
    "plt.imshow(photo_data)"
   ]
  },
  {
   "cell_type": "code",
   "execution_count": null,
   "metadata": {},
   "outputs": [],
   "source": []
  }
 ],
 "metadata": {
  "kernelspec": {
   "display_name": "Python 3 (ipykernel)",
   "language": "python",
   "name": "python3"
  },
  "language_info": {
   "codemirror_mode": {
    "name": "ipython",
    "version": 3
   },
   "file_extension": ".py",
   "mimetype": "text/x-python",
   "name": "python",
   "nbconvert_exporter": "python",
   "pygments_lexer": "ipython3",
   "version": "3.11.2"
  }
 },
 "nbformat": 4,
 "nbformat_minor": 4
}
